{
 "cells": [
  {
   "cell_type": "code",
   "execution_count": 2,
   "metadata": {},
   "outputs": [],
   "source": [
    "import os\n",
    "import numpy as np\n",
    "from numpy import fliplr, flipud\n",
    "import matplotlib.pyplot as plt\n",
    "import matplotlib.image as mpimg\n",
    "from PIL import Image, ImageOps\n",
    "from skimage import io, filters\n",
    "from skimage.transform import resize, rescale, rotate\n",
    "global path\n",
    "from skimage.io import imread, imshow\n",
    "from skimage.color import rgb2gray\n",
    "import random\n",
    "\n",
    "\n",
    "import glob\n",
    "filelist=glob.glob('/home/aishakhan/ImageProcessing/brain_tumor_dataset/*.png') \n",
    "\n",
    "\n",
    "def loadimages(filelist):\n",
    "    X_data = []\n",
    "    #files = glob.glob(path)\n",
    "    for myFile in filelist:\n",
    "        image = io.imread(myFile)\n",
    "        X_data.append(image)\n",
    "    return X_data\n",
    "\n"
   ]
  },
  {
   "cell_type": "code",
   "execution_count": 9,
   "metadata": {},
   "outputs": [
    {
     "name": "stderr",
     "output_type": "stream",
     "text": [
      "/home/aishakhan/anaconda3/lib/python3.7/site-packages/skimage/transform/_warps.py:105: UserWarning: The default mode, 'constant', will be changed to 'reflect' in skimage 0.15.\n",
      "  warn(\"The default mode, 'constant', will be changed to 'reflect' in \"\n",
      "/home/aishakhan/anaconda3/lib/python3.7/site-packages/skimage/transform/_warps.py:110: UserWarning: Anti-aliasing will be enabled by default in skimage 0.15 to avoid aliasing artifacts when down-sampling images.\n",
      "  warn(\"Anti-aliasing will be enabled by default in skimage 0.15 to \"\n"
     ]
    },
    {
     "name": "stdout",
     "output_type": "stream",
     "text": [
      "(300, 300)\n",
      "712\n"
     ]
    },
    {
     "data": {
      "image/png": "[encoded data removed]",
      "text/plain": [
       "<Figure size 432x288 with 2 Axes>"
      ]
     },
     "metadata": {
      "needs_background": "light"
     },
     "output_type": "display_data"
    }
   ],
   "source": [
    "def main():\n",
    "    init_dataset=loadimages(filelist)\n",
    "    plotting(init_dataset[8])\n",
    "    resize_data=resizingimages(init_dataset)\n",
    "    #print(resize_data[4].shape)\n",
    "    dataset2d=convert2dGreyScale(resize_data)\n",
    "    print(dataset2d[4].shape)\n",
    "    #gray_image = rgb2gray(resize_data[4])\n",
    "    #print(gray_image.shape)\n",
    "    augmenteddataset=augmentdataset(dataset2d)\n",
    "    print(len(augmenteddataset))\n",
    "    from skimage import data, exposure, img_as_float\n",
    "    \n",
    "    #plotting(image)\n",
    "    #from numpy import fliplr, flipud\n",
    "    #p_flip = fliplr(augmenteddataset[1])\n",
    "    #u_flip = flipud(augmenteddataset[1])\n",
    "    #plt.subplot(141), imshow(augmenteddataset[1])\n",
    "    #plt.subplot(142), imshow(image)\n",
    "    #plt.subplot(143), imshow(u_flip)\n",
    "    #plt.show()\n",
    "\n",
    "\n",
    "main()"
   ]
  },
  {
   "cell_type": "code",
   "execution_count": 3,
   "metadata": {},
   "outputs": [],
   "source": [
    "def plotting(image):\n",
    "    plt.imshow(image, cmap='gray')"
   ]
  },
  {
   "cell_type": "code",
   "execution_count": 4,
   "metadata": {},
   "outputs": [],
   "source": [
    "def resizingimages(init_dataset):\n",
    "    img_resized_dataset=[]\n",
    "    for image in init_dataset:\n",
    "        img=image\n",
    "#img = init_dataset[4]\n",
    "#resize image\n",
    "        img_resized = resize(img, (300, 300))\n",
    "        #print(img_resized.shape)\n",
    "        img_resized_dataset.append(img_resized)\n",
    "    return img_resized_dataset\n",
    "\n",
    "\n",
    "\n",
    "#plot images\n",
    "#plt.subplot(121), imshow(img)\n",
    "#plt.title('Original Image')\n",
    "#plt.subplot(122), imshow(img_resized)\n",
    "#plt.title('Resized Image')\n",
    "#plt.show()\n",
    "    "
   ]
  },
  {
   "cell_type": "code",
   "execution_count": 5,
   "metadata": {},
   "outputs": [
    {
     "data": {
      "text/plain": [
       "'def rescalingimages(resize_data):\\n    img_rescaled_dataset=[]\\n    for image in resize_data:\\n        img = image\\n        img_rescaled = rescale(img, scale=(0.5, 0.5))\\n        print(img_rescaled.shape)\\n#print(img_rescaled.ndim)\\n        img_rescaled_dataset.append(image)\\n    return img_rescaled_dataset\\n        \\n'"
      ]
     },
     "execution_count": 5,
     "metadata": {},
     "output_type": "execute_result"
    }
   ],
   "source": [
    "'''def rescalingimages(resize_data):\n",
    "    img_rescaled_dataset=[]\n",
    "    for image in resize_data:\n",
    "        img = image\n",
    "        img_rescaled = rescale(img, scale=(0.5, 0.5))\n",
    "        print(img_rescaled.shape)\n",
    "#print(img_rescaled.ndim)\n",
    "        img_rescaled_dataset.append(image)\n",
    "    return img_rescaled_dataset\n",
    "        \n",
    "'''\n",
    "#plt.subplot(121), imshow(img)\n",
    "#plt.title('Original Image')\n",
    "\n",
    "#plt.subplot(122), imshow(img_rescaled)\n",
    "#plt.title('Rescaled Image')\n",
    "\n",
    "#plt.show()"
   ]
  },
  {
   "cell_type": "code",
   "execution_count": 6,
   "metadata": {},
   "outputs": [],
   "source": [
    "def convert2dGreyScale(resize_data):\n",
    "    dataset2d=[]\n",
    "    for image in resize_data:\n",
    "        if image.ndim == 3:\n",
    "            gray_image=rgb2gray(image)\n",
    "            dataset2d.append(gray_image)\n",
    "        else:\n",
    "            dataset2d.append(image)\n",
    "    return dataset2d\n",
    "   "
   ]
  },
  {
   "cell_type": "code",
   "execution_count": 7,
   "metadata": {},
   "outputs": [],
   "source": [
    "def augmentdataset(dataset2d):\n",
    "    originaldataset=dataset2d\n",
    "    augmentdataset=[]\n",
    "    for image in dataset2d:\n",
    "        ### image rotation\n",
    "        random_degree = random.uniform(-25, 25)\n",
    "        rotated_image = rotate(image, random_degree)\n",
    "        augmentdataset.append(rotated_image)\n",
    "        ## horizontal flip doesn't need skimage, it's easy as flipping the image array of pixels !\n",
    "        h_flip_image = fliplr(image)\n",
    "        augmentdataset.append(h_flip_image)\n",
    "        ## vertical flip flipud\n",
    "        v_flip_image = flipud(image)\n",
    "        augmentdataset.append(v_flip_image)\n",
    "    #print(len(augmentdataset))\n",
    "    #print(augmentdataset[355].ndim)\n",
    "    originaldataset = originaldataset + augmentdataset\n",
    "    return originaldataset\n",
    "\n",
    "\n",
    "    "
   ]
  },
  {
   "cell_type": "code",
   "execution_count": null,
   "metadata": {},
   "outputs": [],
   "source": [
    "def preprocessingStage2(augmenteddataset):\n",
    "    gamma_corrected_dataset=[]\n",
    "    for image in augmenteddataset:\n",
    "        image = img_as_float(augmenteddataset[1])\n",
    "        gamma_corrected = exposure.adjust_gamma(image, 2)\n",
    "        gamma_corrected_dataset.append(image)\n",
    "    \n",
    "    # Output is darker for gamma > 1\n",
    "    #image.mean() > gamma_corrected.mean()\n",
    "    "
   ]
  }
 ],
 "metadata": {
  "kernelspec": {
   "display_name": "Python 3",
   "language": "python",
   "name": "python3"
  },
  "language_info": {
   "codemirror_mode": {
    "name": "ipython",
    "version": 3
   },
   "file_extension": ".py",
   "mimetype": "text/x-python",
   "name": "python",
   "nbconvert_exporter": "python",
   "pygments_lexer": "ipython3",
   "version": "3.7.3"
  }
 },
 "nbformat": 4,
 "nbformat_minor": 2
}
